{
 "cells": [
  {
   "cell_type": "code",
   "execution_count": 7,
   "metadata": {
    "collapsed": true
   },
   "outputs": [],
   "source": [
    "conf = \"\"\"[Unit]\n",
    "    Description=Gunicorn instance to serve {}, using {}\n",
    "    After=network.target\n",
    "\n",
    "    [Service]\n",
    "    User={}\n",
    "    Group=www-data\n",
    "    WorkingDirectory={}\n",
    "    Environment=\"PATH={}\"\n",
    "    ExecStart={}\n",
    "    [Install]\n",
    "    WantedBy=multi-user.target\n",
    "    \"\"\""
   ]
  },
  {
   "cell_type": "code",
   "execution_count": 12,
   "metadata": {},
   "outputs": [],
   "source": [
    "lines = conf.split('\\n')\n",
    "gunicorn_service = './test.service'\n",
    "for line in lines:\n",
    "    with open(gunicorn_service, 'a') as file:\n",
    "        file.write(line.strip())\n",
    "        file.write('\\n')"
   ]
  },
  {
   "cell_type": "code",
   "execution_count": null,
   "metadata": {
    "collapsed": true
   },
   "outputs": [],
   "source": []
  },
  {
   "cell_type": "code",
   "execution_count": null,
   "metadata": {
    "collapsed": true
   },
   "outputs": [],
   "source": [
    "    "
   ]
  }
 ],
 "metadata": {
  "kernelspec": {
   "display_name": "Python 3",
   "language": "python",
   "name": "python3"
  },
  "language_info": {
   "codemirror_mode": {
    "name": "ipython",
    "version": 3
   },
   "file_extension": ".py",
   "mimetype": "text/x-python",
   "name": "python",
   "nbconvert_exporter": "python",
   "pygments_lexer": "ipython3",
   "version": "3.6.3"
  }
 },
 "nbformat": 4,
 "nbformat_minor": 2
}
